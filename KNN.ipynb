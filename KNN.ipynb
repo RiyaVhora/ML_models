{
 "cells": [
  {
   "cell_type": "code",
   "execution_count": 1,
   "id": "cac6ef7c-16e7-45b9-a137-93b3eabe8b97",
   "metadata": {},
   "outputs": [],
   "source": [
    "import numpy as np\n",
    "import pandas as pd\n",
    "\n",
    "Train_data = pd.read_csv('train.csv')\n",
    "\n",
    "Test_data = pd.read_csv('test.csv')"
   ]
  },
  {
   "cell_type": "code",
   "execution_count": 3,
   "id": "4136f093-a37f-4a65-a169-3aea7ed29bce",
   "metadata": {},
   "outputs": [],
   "source": [
    "Y_train = Train_data.Survived\n",
    "\n",
    "X_train = pd.get_dummies(Train_data.drop(['Survived','Name','Ticket','Fare','Cabin','Embarked','Age'],axis = 1))\n",
    "\n",
    "X_test = pd.get_dummies(Test_data.drop(['Name','Ticket','Fare','Cabin','Embarked','Age'],axis =1))\n",
    "\n",
    "#becouse we dont have any survival in test.csv \n",
    "\n",
    "from sklearn.model_selection import train_test_split\n",
    "\n",
    "X_train_new ,X_test_new ,Y_train_new ,Y_test_new = train_test_split(X_train,Y_train,random_state =1)"
   ]
  },
  {
   "cell_type": "code",
   "execution_count": 5,
   "id": "44527753-0cde-4a04-983d-d6ad335a27ac",
   "metadata": {},
   "outputs": [],
   "source": [
    "#KNN model\n",
    "from sklearn.neighbors import KNeighborsClassifier\n",
    "from sklearn.metrics import accuracy_score\n",
    "\n",
    "model = KNeighborsClassifier(n_neighbors= 5)\n",
    "\n",
    "model.fit(X_train_new,Y_train_new)\n",
    "\n",
    "preds = model.predict(X_test_new)"
   ]
  },
  {
   "cell_type": "code",
   "execution_count": 9,
   "id": "63fc8b5c-2e3e-4ba3-8196-a94073cd0193",
   "metadata": {},
   "outputs": [
    {
     "data": {
      "text/plain": [
       "0.5874439461883408"
      ]
     },
     "execution_count": 9,
     "metadata": {},
     "output_type": "execute_result"
    }
   ],
   "source": [
    "#find accuracy \n",
    "accuracy = accuracy_score(Y_test_new,preds)\n",
    "\n",
    "accuracy"
   ]
  },
  {
   "cell_type": "code",
   "execution_count": null,
   "id": "29fd6135-4af7-4319-b3e4-8903edcf76b2",
   "metadata": {},
   "outputs": [],
   "source": []
  }
 ],
 "metadata": {
  "kernelspec": {
   "display_name": "Python [conda env:base] *",
   "language": "python",
   "name": "conda-base-py"
  },
  "language_info": {
   "codemirror_mode": {
    "name": "ipython",
    "version": 3
   },
   "file_extension": ".py",
   "mimetype": "text/x-python",
   "name": "python",
   "nbconvert_exporter": "python",
   "pygments_lexer": "ipython3",
   "version": "3.12.7"
  }
 },
 "nbformat": 4,
 "nbformat_minor": 5
}
