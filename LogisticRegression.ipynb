{
 "cells": [
  {
   "cell_type": "code",
   "execution_count": 13,
   "id": "4ff47992-ef1c-4391-8e91-61d1b9ddc80a",
   "metadata": {},
   "outputs": [],
   "source": [
    "import numpy as np\n",
    "import pandas as pd\n",
    "\n",
    "Train_data = pd.read_csv('train.csv')\n",
    "\n",
    "Test_data = pd.read_csv('test.csv')"
   ]
  },
  {
   "cell_type": "code",
   "execution_count": 11,
   "id": "79079f08-33f4-4f54-a1af-a62c19014b7d",
   "metadata": {},
   "outputs": [],
   "source": [
    "Y_train = Train_data.Survived\n",
    "\n",
    "X_train = pd.get_dummies(Train_data.drop(['Survived','Name','Ticket','Fare','Cabin','Embarked','Age'],axis = 1))\n",
    "\n",
    "X_test = pd.get_dummies(Test_data.drop(['Name','Ticket','Fare','Cabin','Embarked','Age'],axis =1))\n",
    "\n",
    "#becouse we dont have any survival in test.csv \n",
    "\n",
    "from sklearn.model_selection import train_test_split\n",
    "\n",
    "X_train_new ,X_test_new ,Y_train_new ,Y_test_new = train_test_split(X_train,Y_train,random_state =1)"
   ]
  },
  {
   "cell_type": "code",
   "execution_count": 15,
   "id": "153a4cc6-d1cb-48b6-ad01-54385c3da547",
   "metadata": {},
   "outputs": [],
   "source": [
    "#logistic regression \n",
    "\n",
    "from sklearn.linear_model import LogisticRegression\n",
    "from sklearn.metrics import accuracy_score\n",
    "\n",
    "model = LogisticRegression(max_iter = 500)\n",
    "\n",
    "model.fit(X_train_new,Y_train_new)\n",
    "\n",
    "preds = model.predict(X_test_new)"
   ]
  },
  {
   "cell_type": "code",
   "execution_count": 17,
   "id": "3b2a3b16-368a-43c1-955b-f0768e464bf4",
   "metadata": {},
   "outputs": [
    {
     "data": {
      "text/plain": [
       "0.7847533632286996"
      ]
     },
     "execution_count": 17,
     "metadata": {},
     "output_type": "execute_result"
    }
   ],
   "source": [
    "#find accuracy \n",
    "\n",
    "accuracy =  accuracy_score(Y_test_new,preds)\n",
    "accuracy"
   ]
  },
  {
   "cell_type": "code",
   "execution_count": null,
   "id": "f686a16d-1769-4d1d-8dde-689d434e88c8",
   "metadata": {},
   "outputs": [],
   "source": []
  }
 ],
 "metadata": {
  "kernelspec": {
   "display_name": "Python [conda env:base] *",
   "language": "python",
   "name": "conda-base-py"
  },
  "language_info": {
   "codemirror_mode": {
    "name": "ipython",
    "version": 3
   },
   "file_extension": ".py",
   "mimetype": "text/x-python",
   "name": "python",
   "nbconvert_exporter": "python",
   "pygments_lexer": "ipython3",
   "version": "3.12.7"
  }
 },
 "nbformat": 4,
 "nbformat_minor": 5
}
